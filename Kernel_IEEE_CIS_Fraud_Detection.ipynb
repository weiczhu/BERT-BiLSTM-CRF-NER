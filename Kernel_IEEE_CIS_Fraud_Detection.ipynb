{
  "nbformat": 4,
  "nbformat_minor": 0,
  "metadata": {
    "kernelspec": {
      "display_name": "Python 3",
      "language": "python",
      "name": "python3"
    },
    "colab": {
      "name": "Kernel - IEEE-CIS Fraud Detection.ipynb",
      "version": "0.3.2",
      "provenance": [],
      "collapsed_sections": [],
      "include_colab_link": true
    }
  },
  "cells": [
    {
      "cell_type": "markdown",
      "metadata": {
        "id": "view-in-github",
        "colab_type": "text"
      },
      "source": [
        "<a href=\"https://colab.research.google.com/github/weiczhu/BERT-BiLSTM-CRF-NER/blob/master/Kernel_IEEE_CIS_Fraud_Detection.ipynb\" target=\"_parent\"><img src=\"https://colab.research.google.com/assets/colab-badge.svg\" alt=\"Open In Colab\"/></a>"
      ]
    },
    {
      "cell_type": "markdown",
      "metadata": {
        "id": "dvuUAq-wp5J-",
        "colab_type": "text"
      },
      "source": [
        "### Install Java, Spark, and Findspark\n",
        "This installs Apache Spark 2.2.1, Java 8, and Findspark, a library that makes it easy for Python to find Spark."
      ]
    },
    {
      "cell_type": "code",
      "metadata": {
        "id": "lTbHLVmoqsK6",
        "colab_type": "code",
        "outputId": "356c211e-bff3-4642-f88a-c2ed137145db",
        "colab": {
          "base_uri": "https://localhost:8080/",
          "height": 476
        }
      },
      "source": [
        "# Install Spark\n",
        "!apt-get install openjdk-8-jdk-headless -qq > /dev/null\n",
        "!wget -q http://apache.osuosl.org/spark/spark-2.3.3/spark-2.3.3-bin-hadoop2.7.tgz\n",
        "!tar xf spark-2.3.3-bin-hadoop2.7.tgz\n",
        "!pip install -q findspark\n",
        "\n",
        "# Install kaggle\n",
        "!pip install kaggle\n",
        "\n",
        "api_token = {\"username\":\"weiczhu\",\"key\":\"626eeb97e341f91fe182eecd64e4e8ac\"}\n",
        "import json\n",
        "import zipfile\n",
        "import os\n",
        "import subprocess\n",
        "\n",
        "if not os.path.exists(\"/root/.kaggle/kaggle.json\"):\n",
        "    if not os.path.exists(\"/root/.kaggle/\"):\n",
        "        subprocess.call(\"!mkdir -p /root/.kaggle/\")\n",
        "    with open('/root/.kaggle/kaggle.json', 'w') as file:\n",
        "        json.dump(api_token, file)    \n",
        "        subprocess.call(\"!chmod 600 /root/.kaggle/kaggle.json\")\n",
        "    \n",
        "!kaggle competitions download -c ieee-fraud-detection --force\n",
        "if not os.path.exists(\"/content/competitions/ieee-fraud-detection\"):\n",
        "    os.makedirs(\"/content/competitions/ieee-fraud-detection\")\n",
        "    os.chdir('/content/competitions/ieee-fraud-detection')\n",
        "    for file in os.listdir():\n",
        "        if file[-4:] == \".zip\":\n",
        "            zip_ref = zipfile.ZipFile(file, 'r')\n",
        "            zip_ref.extractall()\n",
        "            zip_ref.close()\n",
        "            subprocess.call(f\"rm {file}\")"
      ],
      "execution_count": 0,
      "outputs": [
        {
          "output_type": "stream",
          "text": [
            "Requirement already satisfied: kaggle in /usr/local/lib/python3.6/dist-packages (1.5.4)\n",
            "Requirement already satisfied: urllib3<1.25,>=1.21.1 in /usr/local/lib/python3.6/dist-packages (from kaggle) (1.24.3)\n",
            "Requirement already satisfied: six>=1.10 in /usr/local/lib/python3.6/dist-packages (from kaggle) (1.12.0)\n",
            "Requirement already satisfied: tqdm in /usr/local/lib/python3.6/dist-packages (from kaggle) (4.28.1)\n",
            "Requirement already satisfied: certifi in /usr/local/lib/python3.6/dist-packages (from kaggle) (2019.6.16)\n",
            "Requirement already satisfied: python-dateutil in /usr/local/lib/python3.6/dist-packages (from kaggle) (2.5.3)\n",
            "Requirement already satisfied: requests in /usr/local/lib/python3.6/dist-packages (from kaggle) (2.21.0)\n",
            "Requirement already satisfied: python-slugify in /usr/local/lib/python3.6/dist-packages (from kaggle) (3.0.2)\n",
            "Requirement already satisfied: idna<2.9,>=2.5 in /usr/local/lib/python3.6/dist-packages (from requests->kaggle) (2.8)\n",
            "Requirement already satisfied: chardet<3.1.0,>=3.0.2 in /usr/local/lib/python3.6/dist-packages (from requests->kaggle) (3.0.4)\n",
            "Requirement already satisfied: text-unidecode==1.2 in /usr/local/lib/python3.6/dist-packages (from python-slugify->kaggle) (1.2)\n",
            "Warning: Your Kaggle API key is readable by other users on this system! To fix this, you can run 'chmod 600 /root/.kaggle/kaggle.json'\n",
            "Downloading train_transaction.csv.zip to /content/competitions/ieee-fraud-detection\n",
            " 78% 41.0M/52.5M [00:00<00:00, 192MB/s]\n",
            "100% 52.5M/52.5M [00:00<00:00, 208MB/s]\n",
            "Downloading train_identity.csv.zip to /content/competitions/ieee-fraud-detection\n",
            "  0% 0.00/3.02M [00:00<?, ?B/s]\n",
            "100% 3.02M/3.02M [00:00<00:00, 99.8MB/s]\n",
            "Downloading test_transaction.csv.zip to /content/competitions/ieee-fraud-detection\n",
            " 76% 36.0M/47.3M [00:00<00:00, 162MB/s]\n",
            "100% 47.3M/47.3M [00:00<00:00, 178MB/s]\n",
            "Downloading test_identity.csv.zip to /content/competitions/ieee-fraud-detection\n",
            "  0% 0.00/2.97M [00:00<?, ?B/s]\n",
            "100% 2.97M/2.97M [00:00<00:00, 197MB/s]\n",
            "Downloading sample_submission.csv.zip to /content/competitions/ieee-fraud-detection\n",
            "  0% 0.00/1.14M [00:00<?, ?B/s]\n",
            "100% 1.14M/1.14M [00:00<00:00, 163MB/s]\n"
          ],
          "name": "stdout"
        }
      ]
    },
    {
      "cell_type": "markdown",
      "metadata": {
        "id": "1l44JgTFp5KC",
        "colab_type": "text"
      },
      "source": [
        "### Set Environment Variables\n",
        "Set the locations where Spark and Java are installed."
      ]
    },
    {
      "cell_type": "code",
      "metadata": {
        "id": "w-BXfmuop5KD",
        "colab_type": "code",
        "colab": {}
      },
      "source": [
        "import os\n",
        "os.environ[\"JAVA_HOME\"] = \"/usr/lib/jvm/java-8-openjdk-amd64\"\n",
        "os.environ[\"SPARK_HOME\"] = \"/content/spark-2.3.3-bin-hadoop2.7\""
      ],
      "execution_count": 0,
      "outputs": []
    },
    {
      "cell_type": "markdown",
      "metadata": {
        "id": "vm3BAMMNzeGk",
        "colab_type": "text"
      },
      "source": [
        "### Start Actual Code"
      ]
    },
    {
      "cell_type": "code",
      "metadata": {
        "_cell_guid": "b1076dfc-b9ad-4769-8c92-a6c4dae69d19",
        "_uuid": "8f2839f25d086af736a60e9eeb907d3b93b6e0e5",
        "scrolled": true,
        "id": "-VQF0z5Yp5KH",
        "colab_type": "code",
        "outputId": "fd55799b-9913-4850-ae3b-5c538cd4d268",
        "colab": {
          "base_uri": "https://localhost:8080/",
          "height": 54
        }
      },
      "source": [
        "# This Python 3 environment comes with many helpful analytics libraries installed\n",
        "# It is defined by the kaggle/python docker image: https://github.com/kaggle/docker-python\n",
        "# For example, here's several helpful packages to load in \n",
        "\n",
        "import numpy as np # linear algebra\n",
        "import pandas as pd # data processing, CSV file I/O (e.g. pd.read_csv)\n",
        "\n",
        "# Input data files are available in the \"../input/\" directory.\n",
        "# For example, running this (by clicking run or pressing Shift+Enter) will list the files in the input directory\n",
        "\n",
        "import os\n",
        "print(os.listdir(\"/content/competitions/ieee-fraud-detection\"))\n",
        "\n",
        "# Any results you write to the current directory are saved as output."
      ],
      "execution_count": 0,
      "outputs": [
        {
          "output_type": "stream",
          "text": [
            "['test_transaction.csv', 'train_identity.csv', 'test_transaction.csv.zip', 'test_identity.csv.zip', 'train_transaction.csv', 'train_transaction.csv.zip', 'sample_submission.csv', 'sample_submission.csv.zip', 'test_identity.csv', 'train_identity.csv.zip']\n"
          ],
          "name": "stdout"
        }
      ]
    },
    {
      "cell_type": "markdown",
      "metadata": {
        "id": "zs0egYG5p5KJ",
        "colab_type": "raw"
      },
      "source": [
        "The following is a bit more details about it:\n",
        "\n",
        "Transaction Table *\n",
        "TransactionDT: timedelta from a given reference datetime (not an actual timestamp)\n",
        "TransactionAMT: transaction payment amount in USD\n",
        "ProductCD: product code, the product for each transaction\n",
        "card1 - card6: payment card information, such as card type, card category, issue bank, country, etc.\n",
        "addr: address\n",
        "dist: distance\n",
        "P_ and (R__) emaildomain: purchaser and recipient email domain\n",
        "C1-C14: counting, such as how many addresses are found to be associated with the payment card, etc. The actual meaning is masked.\n",
        "D1-D15: timedelta, such as days between previous transaction, etc.\n",
        "M1-M9: match, such as names on card and address, etc.\n",
        "Vxxx: Vesta engineered rich features, including ranking, counting, and other entity relations.\n",
        "\n",
        "Categorical Features:\n",
        "ProductCD\n",
        "card1 - card6\n",
        "addr1, addr2\n",
        "Pemaildomain Remaildomain\n",
        "M1 - M9\n",
        "\n",
        "Identity Table *\n",
        "Variables in this table are identity information – network connection information (IP, ISP, Proxy, etc) and digital signature (UA/browser/os/version, etc) associated with transactions. \n",
        "They're collected by Vesta’s fraud protection system and digital security partners.\n",
        "(The field names are masked and pairwise dictionary will not be provided for privacy protection and contract agreement)\n",
        "\n",
        "Categorical Features:\n",
        "DeviceType\n",
        "DeviceInfo\n",
        "id12 - id38"
      ]
    },
    {
      "cell_type": "code",
      "metadata": {
        "id": "OkAIoraGp5KK",
        "colab_type": "code",
        "colab": {}
      },
      "source": [
        "import findspark\n",
        "findspark.init()\n",
        "\n",
        "from pyspark.sql import SparkSession\n",
        "from pyspark.sql.functions import mean, col, split, regexp_extract, when, lit\n",
        "from pyspark.ml.feature import StringIndexer\n",
        "from pyspark.ml.feature import VectorAssembler\n",
        "from pyspark.ml.evaluation import MulticlassClassificationEvaluator\n",
        "from pyspark.ml.feature import QuantileDiscretizer"
      ],
      "execution_count": 0,
      "outputs": []
    },
    {
      "cell_type": "code",
      "metadata": {
        "_uuid": "c7425d674cbe6c1277313785cf306e500b043657",
        "id": "yCTJdw2tp5KM",
        "colab_type": "code",
        "colab": {}
      },
      "source": [
        "spark = SparkSession \\\n",
        "    .builder \\\n",
        "    .appName(\"fraud detection\") \\\n",
        "    .master(\"local[*]\") \\\n",
        "    .getOrCreate()\n",
        "#     .config(\"spark.sql.execution.arrow.enabled\", \"true\") \\\n",
        "#     .config(\"spark.driver.maxResultSize\", \"0\") \\\n",
        "#     .config(\"spark.driver.memory\", \"16g\") \\\n",
        "#     .getOrCreate()"
      ],
      "execution_count": 0,
      "outputs": []
    },
    {
      "cell_type": "code",
      "metadata": {
        "_uuid": "64aeb79ffd1b788334a122538fe61aa672760238",
        "id": "B9FsCLPcp5KO",
        "colab_type": "code",
        "colab": {}
      },
      "source": [
        "# spark.conf.set(\"spark.sql.execution.arrow.enabled\", \"true\")"
      ],
      "execution_count": 0,
      "outputs": []
    },
    {
      "cell_type": "code",
      "metadata": {
        "id": "iKPrZ0fyp5KP",
        "colab_type": "code",
        "colab": {}
      },
      "source": [
        "train_transaction = spark.read.csv('file:///content/competitions/ieee-fraud-detection/train_transaction.csv', header=True, inferSchema=True)\n",
        "train_identity = spark.read.csv('file:///content/competitions/ieee-fraud-detection/train_identity.csv', header=True, inferSchema=True)\n",
        "\n",
        "test_transaction = spark.read.csv('file:///content/competitions/ieee-fraud-detection/test_transaction.csv', header=True, inferSchema=True)\n",
        "test_identity = spark.read.csv('file:///content/competitions/ieee-fraud-detection/test_identity.csv', header=True, inferSchema=True)"
      ],
      "execution_count": 0,
      "outputs": []
    },
    {
      "cell_type": "code",
      "metadata": {
        "id": "SfVwmk1Sp5KR",
        "colab_type": "code",
        "colab": {}
      },
      "source": [
        "train = train_transaction.join(train_identity, \"TransactionID\", how='left')"
      ],
      "execution_count": 0,
      "outputs": []
    },
    {
      "cell_type": "code",
      "metadata": {
        "id": "OXeJh9vAp5KT",
        "colab_type": "code",
        "colab": {}
      },
      "source": [
        "test = test_transaction.join(test_identity, \"TransactionID\", how='left')"
      ],
      "execution_count": 0,
      "outputs": []
    },
    {
      "cell_type": "code",
      "metadata": {
        "id": "up7y_zLJ0V0C",
        "colab_type": "code",
        "colab": {}
      },
      "source": [
        "train.printSchema()"
      ],
      "execution_count": 0,
      "outputs": []
    },
    {
      "cell_type": "code",
      "metadata": {
        "id": "8fFl-9Srp5KV",
        "colab_type": "code",
        "colab": {}
      },
      "source": [
        "# train.cache()"
      ],
      "execution_count": 0,
      "outputs": []
    },
    {
      "cell_type": "code",
      "metadata": {
        "id": "7nP6MBBEp5KX",
        "colab_type": "code",
        "colab": {}
      },
      "source": [
        "categorical_cols = [\"ProductCD\"] + \\\n",
        "    [\"card\" + str(i) for i in range(1, 7)] + \\\n",
        "    [\"addr1\", \"addr2\"] + \\\n",
        "    [\"P_emaildomain\", \"R_emaildomain\"] + \\\n",
        "    [\"M\" + str(i) for i in range(1, 10)] + \\\n",
        "    [\"DeviceType\", \"DeviceInfo\"] + \\\n",
        "    [\"id_{:02d}\".format(i) for i in range(12, 39)]\n",
        "# categorical_cols"
      ],
      "execution_count": 0,
      "outputs": []
    },
    {
      "cell_type": "code",
      "metadata": {
        "id": "2xQFKC9pp5Ka",
        "colab_type": "code",
        "colab": {}
      },
      "source": [
        "label_col = \"isFraud\""
      ],
      "execution_count": 0,
      "outputs": []
    },
    {
      "cell_type": "code",
      "metadata": {
        "id": "FyC_lFSzp5Kc",
        "colab_type": "code",
        "colab": {}
      },
      "source": [
        "contiguous_cols = list(filter(lambda x: x not in categorical_cols and x != label_col, train.columns))\n",
        "contiguous_cols.remove(\"TransactionID\")\n",
        "# contiguous_cols"
      ],
      "execution_count": 0,
      "outputs": []
    },
    {
      "cell_type": "code",
      "metadata": {
        "id": "UcuxtPaSp5Kf",
        "colab_type": "code",
        "colab": {}
      },
      "source": [
        "total_count = train.count()\n",
        "# total_count"
      ],
      "execution_count": 0,
      "outputs": []
    },
    {
      "cell_type": "code",
      "metadata": {
        "id": "gOuHkyK2p5Kj",
        "colab_type": "code",
        "outputId": "fb62e1b3-6a60-4e66-c349-0b5eaae71a89",
        "colab": {
          "base_uri": "https://localhost:8080/",
          "height": 224
        }
      },
      "source": [
        "select_cols = train.columns[:17] + train.columns[432:]\n",
        "del select_cols[1]\n",
        "train.select(*(select_cols)).show(5)"
      ],
      "execution_count": 0,
      "outputs": [
        {
          "output_type": "stream",
          "text": [
            "+-------------+-------------+--------------+---------+-----+-----+-----+----------+-----+------+-----+-----+-----+-----+-------------+-------------+----------+--------------------+\n",
            "|TransactionID|TransactionDT|TransactionAmt|ProductCD|card1|card2|card3|     card4|card5| card6|addr1|addr2|dist1|dist2|P_emaildomain|R_emaildomain|DeviceType|          DeviceInfo|\n",
            "+-------------+-------------+--------------+---------+-----+-----+-----+----------+-----+------+-----+-----+-----+-----+-------------+-------------+----------+--------------------+\n",
            "|      2987000|        86400|          68.5|        W|13926| null|150.0|  discover|142.0|credit|315.0| 87.0| 19.0| null|         null|         null|      null|                null|\n",
            "|      2987001|        86401|          29.0|        W| 2755|404.0|150.0|mastercard|102.0|credit|325.0| 87.0| null| null|    gmail.com|         null|      null|                null|\n",
            "|      2987002|        86469|          59.0|        W| 4663|490.0|150.0|      visa|166.0| debit|330.0| 87.0|287.0| null|  outlook.com|         null|      null|                null|\n",
            "|      2987003|        86499|          50.0|        W|18132|567.0|150.0|mastercard|117.0| debit|476.0| 87.0| null| null|    yahoo.com|         null|      null|                null|\n",
            "|      2987004|        86506|          50.0|        H| 4497|514.0|150.0|mastercard|102.0|credit|420.0| 87.0| null| null|    gmail.com|         null|    mobile|SAMSUNG SM-G892A ...|\n",
            "+-------------+-------------+--------------+---------+-----+-----+-----+----------+-----+------+-----+-----+-----+-----+-------------+-------------+----------+--------------------+\n",
            "only showing top 5 rows\n",
            "\n"
          ],
          "name": "stdout"
        }
      ]
    },
    {
      "cell_type": "code",
      "metadata": {
        "id": "iihRxtukp5Kl",
        "colab_type": "code",
        "outputId": "87d78b08-1f77-4d69-8b69-dbd2e5b06694",
        "colab": {
          "base_uri": "https://localhost:8080/",
          "height": 187
        }
      },
      "source": [
        "train.select(*(select_cols)).select(\"TransactionDT\", \"TransactionAmt\", \"ProductCD\", \"P_emaildomain\", \"R_emaildomain\", \"DeviceType\", \"DeviceInfo\").describe().show()"
      ],
      "execution_count": 0,
      "outputs": [
        {
          "output_type": "stream",
          "text": [
            "+-------+-----------------+------------------+---------+-------------+-------------+----------+------------------+\n",
            "|summary|    TransactionDT|    TransactionAmt|ProductCD|P_emaildomain|R_emaildomain|DeviceType|        DeviceInfo|\n",
            "+-------+-----------------+------------------+---------+-------------+-------------+----------+------------------+\n",
            "|  count|           590540|            590540|   590540|       496084|       137291|    140810|            118666|\n",
            "|   mean|7372311.310116165|135.02717637240136|     null|         null|         null|      null|           14088.0|\n",
            "| stddev|4617223.646539707|239.16252201373396|     null|         null|         null|      null|22267.786643490188|\n",
            "|    min|            86400|             0.251|        C|      aim.com|      aim.com|   desktop|             0PAJ5|\n",
            "|    max|         15811131|         31937.391|        W|    ymail.com|    ymail.com|    mobile|    xs-Z47b7VqTMxs|\n",
            "+-------+-----------------+------------------+---------+-------------+-------------+----------+------------------+\n",
            "\n"
          ],
          "name": "stdout"
        }
      ]
    },
    {
      "cell_type": "code",
      "metadata": {
        "id": "3fULYz7kp5Kn",
        "colab_type": "code",
        "outputId": "73e7cb2b-b624-46c7-8b27-5932eebc0776",
        "colab": {
          "base_uri": "https://localhost:8080/",
          "height": 187
        }
      },
      "source": [
        "train.select(*(select_cols)).groupBy(\"ProductCD\").count().show()"
      ],
      "execution_count": 0,
      "outputs": [
        {
          "output_type": "stream",
          "text": [
            "+---------+------+\n",
            "|ProductCD| count|\n",
            "+---------+------+\n",
            "|        C| 68519|\n",
            "|        W|439670|\n",
            "|        S| 11628|\n",
            "|        R| 37699|\n",
            "|        H| 33024|\n",
            "+---------+------+\n",
            "\n"
          ],
          "name": "stdout"
        }
      ]
    },
    {
      "cell_type": "code",
      "metadata": {
        "id": "NLrAHcd5p5Kp",
        "colab_type": "code",
        "outputId": "43aa539d-799b-4e72-d7a8-4d8fe9191caa",
        "colab": {
          "base_uri": "https://localhost:8080/",
          "height": 289
        }
      },
      "source": [
        "train.select(*(select_cols)).groupBy(\"DeviceType\").count().show()"
      ],
      "execution_count": 0,
      "outputs": [
        {
          "output_type": "stream",
          "text": [
            "+----------+------+\n",
            "|DeviceType| count|\n",
            "+----------+------+\n",
            "|   desktop| 85165|\n",
            "|      null|449730|\n",
            "|    mobile| 55645|\n",
            "+----------+------+\n",
            "\n",
            "+----------+------+\n",
            "|DeviceType| count|\n",
            "+----------+------+\n",
            "|   desktop| 85165|\n",
            "|      null|449730|\n",
            "|    mobile| 55645|\n",
            "+----------+------+\n",
            "\n"
          ],
          "name": "stdout"
        }
      ]
    },
    {
      "cell_type": "markdown",
      "metadata": {
        "id": "dFhKi2bRp5Kt",
        "colab_type": "text"
      },
      "source": [
        "### Feature engineering"
      ]
    },
    {
      "cell_type": "code",
      "metadata": {
        "id": "ND7CgMOgp5Ku",
        "colab_type": "code",
        "outputId": "b2f5a921-05b2-4c4b-b321-51cf9ede32d4",
        "colab": {
          "base_uri": "https://localhost:8080/",
          "height": 153
        }
      },
      "source": [
        "train = train.withColumn(\"Emaildomain_match\", when(train[\"P_emaildomain\"].isNull() | train[\"R_emaildomain\"].isNull(), 2). \n",
        "                         when(train[\"P_emaildomain\"] == train[\"R_emaildomain\"], 1).otherwise(0))\n",
        "train.groupBy(\"Emaildomain_match\").count().show()\n",
        "\n",
        "categorical_cols += [\"Emaildomain_match\"] if \"Emaildomain_match\" not in categorical_cols else []\n",
        "if \"P_emaildomain\" in categorical_cols:\n",
        "    categorical_cols.remove(\"P_emaildomain\")\n",
        "if \"R_emaildomain\" in categorical_cols:\n",
        "    categorical_cols.remove(\"R_emaildomain\")"
      ],
      "execution_count": 0,
      "outputs": [
        {
          "output_type": "stream",
          "text": [
            "+-----------------+------+\n",
            "|Emaildomain_match| count|\n",
            "+-----------------+------+\n",
            "|                1|102504|\n",
            "|                2|464313|\n",
            "|                0| 23723|\n",
            "+-----------------+------+\n",
            "\n"
          ],
          "name": "stdout"
        }
      ]
    },
    {
      "cell_type": "code",
      "metadata": {
        "id": "N1CiVoTip5K0",
        "colab_type": "code",
        "outputId": "369246a2-2970-45d2-e572-2d883a6282e9",
        "colab": {
          "base_uri": "https://localhost:8080/",
          "height": 153
        }
      },
      "source": [
        "train.groupBy(\"DeviceType\").count().show()"
      ],
      "execution_count": 0,
      "outputs": [
        {
          "output_type": "stream",
          "text": [
            "+----------+------+\n",
            "|DeviceType| count|\n",
            "+----------+------+\n",
            "|   desktop| 85165|\n",
            "|      null|449730|\n",
            "|    mobile| 55645|\n",
            "+----------+------+\n",
            "\n"
          ],
          "name": "stdout"
        }
      ]
    },
    {
      "cell_type": "code",
      "metadata": {
        "id": "f7f7wq8kp5K2",
        "colab_type": "code",
        "outputId": "687fe493-f0be-4783-883b-ddbc03706fda",
        "colab": {
          "base_uri": "https://localhost:8080/",
          "height": 34
        }
      },
      "source": [
        "train.select(\"DeviceInfo\").distinct().count()"
      ],
      "execution_count": 0,
      "outputs": [
        {
          "output_type": "execute_result",
          "data": {
            "text/plain": [
              "1787"
            ]
          },
          "metadata": {
            "tags": []
          },
          "execution_count": 27
        }
      ]
    },
    {
      "cell_type": "code",
      "metadata": {
        "id": "oN29zB_vp5K6",
        "colab_type": "code",
        "outputId": "26d28d7f-2bc8-4a71-acfb-fbf0bc37f0af",
        "colab": {
          "base_uri": "https://localhost:8080/",
          "height": 224
        }
      },
      "source": [
        "categorical_df = train.select(*categorical_cols)\n",
        "categorical_df.show(5)"
      ],
      "execution_count": 0,
      "outputs": [
        {
          "output_type": "stream",
          "text": [
            "+---------+-----+-----+-----+-----+-----+------+-----+-----+----+----+----+----+----+----+----+----+----+----------+----------+--------+-----+------+-----+--------+-----+-----+-----+-----+-----+-----+-----+-----+-----+-----+-----+-----+-----+----------+---------+-----+-----+--------------+-----+-----+-----+-----+-----------------+\n",
            "|ProductCD|card1|card2|card3|card4|card5| card6|addr1|addr2|  M1|  M2|  M3|  M4|  M5|  M6|  M7|  M8|  M9|DeviceType|DeviceInfo|   id_12|id_13| id_14|id_15|   id_16|id_17|id_18|id_19|id_20|id_21|id_22|id_23|id_24|id_25|id_26|id_27|id_28|id_29|     id_30|    id_31|id_32|id_33|         id_34|id_35|id_36|id_37|id_38|Emaildomain_match|\n",
            "+---------+-----+-----+-----+-----+-----+------+-----+-----+----+----+----+----+----+----+----+----+----+----------+----------+--------+-----+------+-----+--------+-----+-----+-----+-----+-----+-----+-----+-----+-----+-----+-----+-----+-----+----------+---------+-----+-----+--------------+-----+-----+-----+-----+-----------------+\n",
            "|        H| 5220|360.0|150.0| visa|226.0|credit|231.0| 87.0|null|null|null|null|null|null|null|null|null|   desktop|   Windows|NotFound| 52.0|-300.0|  New|NotFound|166.0| null|548.0|391.0| null| null| null| null| null| null| null|Found|Found|Windows 10|edge 15.0| 24.0| null|match_status:2|    T|    F|    T|    T|                1|\n",
            "|        W|11106|100.0|150.0| visa|226.0|credit|204.0| 87.0|   T|   F|   F|null|null|   F|   F|   F|   T|      null|      null|    null| null|  null| null|    null| null| null| null| null| null| null| null| null| null| null| null| null| null|      null|     null| null| null|          null| null| null| null| null|                2|\n",
            "|        W|17400|174.0|150.0| visa|226.0| debit|269.0| 87.0|null|null|null|  M0|   T|   F|null|null|null|      null|      null|    null| null|  null| null|    null| null| null| null| null| null| null| null| null| null| null| null| null| null|      null|     null| null| null|          null| null| null| null| null|                2|\n",
            "|        W|18227|583.0|150.0| visa|226.0|credit|299.0| 87.0|null|null|null|  M0|   F|   F|null|null|null|      null|      null|    null| null|  null| null|    null| null| null| null| null| null| null| null| null| null| null| null| null| null|      null|     null| null| null|          null| null| null| null| null|                2|\n",
            "|        W|15863|158.0|150.0| visa|226.0| debit|177.0| 87.0|null|null|null|null|null|   F|null|null|null|      null|      null|    null| null|  null| null|    null| null| null| null| null| null| null| null| null| null| null| null| null| null|      null|     null| null| null|          null| null| null| null| null|                2|\n",
            "+---------+-----+-----+-----+-----+-----+------+-----+-----+----+----+----+----+----+----+----+----+----+----------+----------+--------+-----+------+-----+--------+-----+-----+-----+-----+-----+-----+-----+-----+-----+-----+-----+-----+-----+----------+---------+-----+-----+--------------+-----+-----+-----+-----+-----------------+\n",
            "only showing top 5 rows\n",
            "\n"
          ],
          "name": "stdout"
        }
      ]
    },
    {
      "cell_type": "code",
      "metadata": {
        "id": "4SqWsJlNp5K7",
        "colab_type": "code",
        "outputId": "47b9d1d8-0691-4344-aa55-d0672e5be42b",
        "colab": {
          "base_uri": "https://localhost:8080/",
          "height": 119
        }
      },
      "source": [
        "# label_df = train.select(label_col)\n",
        "# label_df.groupBy(\"isFraud\").count().show()\n",
        "\n",
        "train.groupBy(\"isFraud\").count().where(col(\"isFraud\") == 0).show()"
      ],
      "execution_count": 0,
      "outputs": [
        {
          "output_type": "stream",
          "text": [
            "+-------+------+\n",
            "|isFraud| count|\n",
            "+-------+------+\n",
            "|      0|569877|\n",
            "+-------+------+\n",
            "\n"
          ],
          "name": "stdout"
        }
      ]
    },
    {
      "cell_type": "code",
      "metadata": {
        "id": "dRoSyUS_p5K9",
        "colab_type": "code",
        "outputId": "60f80e5d-0863-4587-ae42-28d009896ab8",
        "colab": {
          "base_uri": "https://localhost:8080/",
          "height": 224
        }
      },
      "source": [
        "contiguous_df = train.select(*contiguous_cols)\n",
        "contiguous_df.show(5)"
      ],
      "execution_count": 0,
      "outputs": [
        {
          "output_type": "stream",
          "text": [
            "+-------------+--------------+-----+-----+---+---+---+---+---+---+---+---+---+---+---+---+----+---+-----+-----+----+----+----+----+----+----+----+----+-----+----+----+----+-----+----+----+----+----+----+----+----+----+----+----+----+----+----+----+----+----+----+----+----+----+----+----+----+----+----+----+----+----+----+----+----+----+----+----+----+----+----+----+----+----+----+----+----+----+----+----+----+----+----+----+----+----+----+----+----+----+----+----+----+----+----+----+----+----+----+----+----+----+----+----+----+----+----+----+----+----+----+----+----+----+----+----+----+----+----+----+----+----+----+----+----+----+----+----+---+----+----+---+----+----+----+----+----+----+----+----+----+----+----+----+----+----+----+----+----+----+----+----+----+----+----+----+----+----+----+----+------+-----+----+-----+-----+----+------+-----+----+----+----+----+----+----+----+----+----+----+-----+----+----+----+----+------+----+----+----+----+----+----+----+----+---------------+-------------+----+----+----+-----+------+------+----+----+----+----+----+----+----+----+----+----+----+----+----+----+----+----+----+----+----+----+----+----+----+----+----+----+----+----+----+----+----+----+----+----+----+----+----+----+----+----+----+----+----+----+----+----+----+----+----+----+----+----+----+----+----+----+----+----+----+----+----+----+----+----+----+----+----+----+----+----+----+----+----+----+----+----+----+----+----+----+----+----+----+----+----+----+----+----+----+----+----+----+----+----+----+----+----+----+----+----+----+----+----+----+----+----+----+----+----+----+----+----+----+----+----+----+----+----+----+----+----+----+----+----+----+----+----+----+----+----+----+----+----+----+----+----+----+----+----+----+------+-----+----+-----+----+-----+----+----+----+----+------+-----+----+----+----+----+----+----+----+----+----+----+----+----+----+----+----+----+----+----+----+----+----+-----+-------+-----+-----+-----+-----+-----+-----+-----+-----+-----+\n",
            "|TransactionDT|TransactionAmt|dist1|dist2| C1| C2| C3| C4| C5| C6| C7| C8| C9|C10|C11|C12| C13|C14|   D1|   D2|  D3|  D4|  D5|  D6|  D7|  D8|  D9| D10|  D11| D12| D13| D14|  D15|  V1|  V2|  V3|  V4|  V5|  V6|  V7|  V8|  V9| V10| V11| V12| V13| V14| V15| V16| V17| V18| V19| V20| V21| V22| V23| V24| V25| V26| V27| V28| V29| V30| V31| V32| V33| V34| V35| V36| V37| V38| V39| V40| V41| V42| V43| V44| V45| V46| V47| V48| V49| V50| V51| V52| V53| V54| V55| V56| V57| V58| V59| V60| V61| V62| V63| V64| V65| V66| V67| V68| V69| V70| V71| V72| V73| V74| V75| V76| V77| V78| V79| V80| V81| V82| V83| V84| V85| V86| V87| V88| V89| V90| V91| V92| V93| V94|V95| V96| V97|V98| V99|V100|V101|V102|V103|V104|V105|V106|V107|V108|V109|V110|V111|V112|V113|V114|V115|V116|V117|V118|V119|V120|V121|V122|V123|V124|V125|V126|  V127| V128|V129| V130| V131|V132|  V133| V134|V135|V136|V137|V138|V139|V140|V141|V142|V143|V144| V145|V146|V147|V148|V149|  V150|V151|V152|V153|V154|V155|V156|V157|V158|           V159|         V160|V161|V162|V163| V164|  V165|  V166|V167|V168|V169|V170|V171|V172|V173|V174|V175|V176|V177|V178|V179|V180|V181|V182|V183|V184|V185|V186|V187|V188|V189|V190|V191|V192|V193|V194|V195|V196|V197|V198|V199|V200|V201|V202|V203|V204|V205|V206|V207|V208|V209|V210|V211|V212|V213|V214|V215|V216|V217|V218|V219|V220|V221|V222|V223|V224|V225|V226|V227|V228|V229|V230|V231|V232|V233|V234|V235|V236|V237|V238|V239|V240|V241|V242|V243|V244|V245|V246|V247|V248|V249|V250|V251|V252|V253|V254|V255|V256|V257|V258|V259|V260|V261|V262|V263|V264|V265|V266|V267|V268|V269|V270|V271|V272|V273|V274|V275|V276|V277|V278|V279|V280|V281|V282|V283|V284|V285|V286|V287|V288|V289|V290|V291|V292|V293|V294|V295|V296|V297|V298|V299|V300|V301|V302|V303|V304|V305|V306|  V307| V308|V309| V310|V311| V312|V313|V314|V315|V316|  V317| V318|V319|V320|V321|V322|V323|V324|V325|V326|V327|V328|V329|V330|V331|V332|V333|V334|V335|V336|V337|V338|V339|id_01|  id_02|id_03|id_04|id_05|id_06|id_07|id_08|id_09|id_10|id_11|\n",
            "+-------------+--------------+-----+-----+---+---+---+---+---+---+---+---+---+---+---+---+----+---+-----+-----+----+----+----+----+----+----+----+----+-----+----+----+----+-----+----+----+----+----+----+----+----+----+----+----+----+----+----+----+----+----+----+----+----+----+----+----+----+----+----+----+----+----+----+----+----+----+----+----+----+----+----+----+----+----+----+----+----+----+----+----+----+----+----+----+----+----+----+----+----+----+----+----+----+----+----+----+----+----+----+----+----+----+----+----+----+----+----+----+----+----+----+----+----+----+----+----+----+----+----+----+----+----+----+----+----+----+----+----+---+----+----+---+----+----+----+----+----+----+----+----+----+----+----+----+----+----+----+----+----+----+----+----+----+----+----+----+----+----+----+----+------+-----+----+-----+-----+----+------+-----+----+----+----+----+----+----+----+----+----+----+-----+----+----+----+----+------+----+----+----+----+----+----+----+----+---------------+-------------+----+----+----+-----+------+------+----+----+----+----+----+----+----+----+----+----+----+----+----+----+----+----+----+----+----+----+----+----+----+----+----+----+----+----+----+----+----+----+----+----+----+----+----+----+----+----+----+----+----+----+----+----+----+----+----+----+----+----+----+----+----+----+----+----+----+----+----+----+----+----+----+----+----+----+----+----+----+----+----+----+----+----+----+----+----+----+----+----+----+----+----+----+----+----+----+----+----+----+----+----+----+----+----+----+----+----+----+----+----+----+----+----+----+----+----+----+----+----+----+----+----+----+----+----+----+----+----+----+----+----+----+----+----+----+----+----+----+----+----+----+----+----+----+----+----+----+------+-----+----+-----+----+-----+----+----+----+----+------+-----+----+----+----+----+----+----+----+----+----+----+----+----+----+----+----+----+----+----+----+----+----+-----+-------+-----+-----+-----+-----+-----+-----+-----+-----+-----+\n",
            "|        86400|          68.5| 19.0| null|1.0|1.0|0.0|0.0|0.0|1.0|0.0|0.0|1.0|0.0|2.0|0.0| 1.0|1.0| 14.0| null|13.0|null|null|null|null|null|null|13.0| 13.0|null|null|null|  0.0| 1.0| 1.0| 1.0| 1.0| 1.0| 1.0| 1.0| 1.0| 1.0| 0.0| 0.0| 1.0| 1.0| 1.0| 0.0| 0.0| 0.0| 0.0| 1.0| 1.0| 0.0| 0.0| 1.0| 1.0| 1.0| 1.0| 0.0| 0.0| 0.0| 0.0| 0.0| 0.0| 0.0| 0.0|null|null|null|null|null|null|null|null|null|null|null|null|null|null|null|null|null|null| 1.0| 1.0| 1.0| 1.0| 0.0| 0.0| 0.0| 0.0| 1.0| 1.0| 0.0| 0.0| 1.0| 1.0| 1.0| 0.0| 0.0| 0.0| 0.0| 0.0| 0.0| 0.0| 1.0| 1.0| 1.0| 1.0| 0.0| 0.0| 0.0| 0.0| 0.0| 0.0| 0.0| 1.0| 1.0| 1.0| 0.0| 0.0| 0.0| 0.0| 0.0| 0.0|0.0| 1.0| 0.0|0.0| 0.0| 0.0| 0.0| 1.0| 0.0| 0.0| 0.0| 0.0| 1.0| 1.0| 1.0| 1.0| 1.0| 1.0| 1.0| 1.0| 1.0| 1.0| 1.0| 1.0| 1.0| 1.0| 1.0| 1.0| 1.0| 1.0| 1.0| 0.0| 117.0|  0.0| 0.0|  0.0|  0.0| 0.0| 117.0|  0.0| 0.0| 0.0| 0.0|null|null|null|null|null|null|null| null|null|null|null|null|  null|null|null|null|null|null|null|null|null|           null|         null|null|null|null| null|  null|  null|null|null|null|null|null|null|null|null|null|null|null|null|null|null|null|null|null|null|null|null|null|null|null|null|null|null|null|null|null|null|null|null|null|null|null|null|null|null|null|null|null|null|null|null|null|null|null|null|null|null|null|null|null|null|null|null|null|null|null|null|null|null|null|null|null|null|null|null|null|null|null|null|null|null|null|null|null|null|null|null|null|null|null|null|null|null|null|null|null|null|null|null|null|null|null|null|null|null|null|null|null|null|null|null|null|null|null|null|null|null|null|null| 0.0| 0.0| 0.0| 1.0| 1.0| 0.0| 0.0| 0.0| 0.0| 0.0| 0.0| 1.0| 1.0| 1.0| 0.0| 1.0| 0.0| 0.0| 0.0| 0.0| 0.0| 0.0| 0.0| 0.0| 0.0| 0.0| 1.0| 0.0| 117.0|  0.0| 0.0|  0.0| 0.0|  0.0| 0.0| 0.0| 0.0| 0.0| 117.0|  0.0| 0.0| 0.0| 0.0|null|null|null|null|null|null|null|null|null|null|null|null|null|null|null|null|null|null| null|   null| null| null| null| null| null| null| null| null| null|\n",
            "|        86401|          29.0| null| null|1.0|1.0|0.0|0.0|0.0|1.0|0.0|0.0|0.0|0.0|1.0|0.0| 1.0|1.0|  0.0| null|null| 0.0|null|null|null|null|null| 0.0| null|null|null|null|  0.0|null|null|null|null|null|null|null|null|null|null|null| 0.0| 0.0| 1.0| 0.0| 0.0| 0.0| 0.0| 1.0| 1.0| 0.0| 0.0| 1.0| 1.0| 1.0| 1.0| 0.0| 0.0| 0.0| 0.0| 0.0| 0.0| 0.0| 0.0| 0.0| 0.0| 1.0| 1.0| 0.0| 0.0| 1.0| 0.0| 0.0| 1.0| 1.0| 1.0| 1.0| 0.0| 0.0| 0.0| 0.0| 0.0| 0.0| 0.0| 1.0| 1.0| 0.0| 0.0| 0.0| 0.0| 1.0| 1.0| 0.0| 0.0| 1.0| 1.0| 1.0| 0.0| 0.0| 0.0| 0.0| 0.0| 0.0| 0.0| 0.0| 0.0| 1.0| 1.0| 0.0| 0.0| 0.0| 1.0| 1.0| 0.0| 0.0| 1.0| 1.0| 1.0| 0.0| 0.0| 0.0| 0.0| 0.0| 0.0|0.0| 0.0| 0.0|0.0| 0.0| 0.0| 0.0| 0.0| 0.0| 0.0| 0.0| 0.0| 1.0| 1.0| 1.0| 1.0| 1.0| 1.0| 1.0| 1.0| 1.0| 1.0| 1.0| 1.0| 1.0| 1.0| 1.0| 1.0| 1.0| 1.0| 1.0| 0.0|   0.0|  0.0| 0.0|  0.0|  0.0| 0.0|   0.0|  0.0| 0.0| 0.0| 0.0|null|null|null|null|null|null|null| null|null|null|null|null|  null|null|null|null|null|null|null|null|null|           null|         null|null|null|null| null|  null|  null|null|null|null|null|null|null|null|null|null|null|null|null|null|null|null|null|null|null|null|null|null|null|null|null|null|null|null|null|null|null|null|null|null|null|null|null|null|null|null|null|null|null|null|null|null|null|null|null|null|null|null|null|null|null|null|null|null|null|null|null|null|null|null|null|null|null|null|null|null|null|null|null|null|null|null|null|null|null|null|null|null|null|null|null|null|null|null|null|null|null|null|null|null|null|null|null|null|null|null|null|null|null|null|null|null|null|null|null|null|null|null|null| 0.0| 0.0| 0.0| 1.0| 1.0| 0.0| 0.0| 0.0| 0.0| 0.0| 0.0| 1.0| 1.0| 1.0| 0.0| 0.0| 0.0| 0.0| 0.0| 0.0| 0.0| 0.0| 0.0| 0.0| 0.0| 0.0| 1.0| 0.0|   0.0|  0.0| 0.0|  0.0| 0.0|  0.0| 0.0| 0.0| 0.0| 0.0|   0.0|  0.0| 0.0| 0.0| 0.0|null|null|null|null|null|null|null|null|null|null|null|null|null|null|null|null|null|null| null|   null| null| null| null| null| null| null| null| null| null|\n",
            "|        86469|          59.0|287.0| null|1.0|1.0|0.0|0.0|0.0|1.0|0.0|0.0|1.0|0.0|1.0|0.0| 1.0|1.0|  0.0| null|null| 0.0|null|null|null|null|null| 0.0|315.0|null|null|null|315.0| 1.0| 1.0| 1.0| 1.0| 1.0| 1.0| 1.0| 1.0| 1.0| 0.0| 0.0| 1.0| 1.0| 1.0| 0.0| 0.0| 0.0| 0.0| 1.0| 1.0| 0.0| 0.0| 1.0| 1.0| 1.0| 1.0| 0.0| 0.0| 0.0| 0.0| 0.0| 0.0| 0.0| 0.0| 1.0| 1.0| 1.0| 1.0| 0.0| 0.0| 1.0| 0.0| 0.0| 1.0| 1.0| 1.0| 1.0| 0.0| 0.0| 0.0| 0.0| 0.0| 1.0| 1.0| 1.0| 1.0| 0.0| 0.0| 0.0| 0.0| 1.0| 1.0| 0.0| 0.0| 1.0| 1.0| 1.0| 0.0| 0.0| 0.0| 0.0| 0.0| 0.0| 0.0| 1.0| 1.0| 1.0| 1.0| 0.0| 0.0| 0.0| 1.0| 1.0| 0.0| 0.0| 1.0| 1.0| 1.0| 0.0| 0.0| 0.0| 0.0| 0.0| 0.0|0.0| 0.0| 0.0|0.0| 0.0| 0.0| 0.0| 0.0| 0.0| 0.0| 0.0| 0.0| 1.0| 1.0| 1.0| 1.0| 1.0| 1.0| 1.0| 1.0| 1.0| 1.0| 1.0| 1.0| 1.0| 1.0| 1.0| 1.0| 1.0| 1.0| 1.0| 0.0|   0.0|  0.0| 0.0|  0.0|  0.0| 0.0|   0.0|  0.0| 0.0| 0.0| 0.0|null|null|null|null|null|null|null| null|null|null|null|null|  null|null|null|null|null|null|null|null|null|           null|         null|null|null|null| null|  null|  null|null|null|null|null|null|null|null|null|null|null|null|null|null|null|null|null|null|null|null|null|null|null|null|null|null|null|null|null|null|null|null|null|null|null|null|null|null|null|null|null|null|null|null|null|null|null|null|null|null|null|null|null|null|null|null|null|null|null|null|null|null|null|null|null|null|null|null|null|null|null|null|null|null|null|null|null|null|null|null|null|null|null|null|null|null|null|null|null|null|null|null|null|null|null|null|null|null|null|null|null|null|null|null|null|null|null|null|null|null|null|null|null| 0.0| 0.0| 0.0| 1.0| 1.0| 0.0| 0.0| 0.0| 0.0| 0.0| 0.0| 1.0| 1.0| 1.0| 0.0| 0.0| 0.0| 0.0| 0.0| 0.0| 0.0| 0.0| 0.0| 0.0| 0.0| 0.0| 1.0| 0.0|   0.0|  0.0| 0.0|  0.0| 0.0|  0.0| 0.0| 0.0| 0.0| 0.0|   0.0|  0.0| 0.0| 0.0| 0.0|null|null|null|null|null|null|null|null|null|null|null|null|null|null|null|null|null|null| null|   null| null| null| null| null| null| null| null| null| null|\n",
            "|        86499|          50.0| null| null|2.0|5.0|0.0|0.0|0.0|4.0|0.0|0.0|1.0|0.0|1.0|0.0|25.0|1.0|112.0|112.0| 0.0|94.0| 0.0|null|null|null|null|84.0| null|null|null|null|111.0|null|null|null|null|null|null|null|null|null|null|null| 1.0| 1.0| 1.0| 0.0| 0.0| 0.0| 0.0| 1.0| 1.0| 0.0| 0.0| 1.0| 1.0| 1.0| 1.0| 0.0| 0.0| 0.0| 0.0| 0.0| 0.0| 0.0| 0.0| 1.0| 1.0| 1.0| 1.0| 0.0| 0.0| 1.0| 0.0| 0.0| 1.0| 1.0| 1.0| 1.0| 0.0| 0.0| 0.0| 0.0| 0.0| 1.0| 1.0| 1.0| 1.0| 0.0| 0.0| 0.0| 0.0| 1.0| 1.0| 0.0| 0.0| 1.0| 1.0| 1.0| 0.0| 0.0| 0.0| 0.0| 0.0| 0.0| 0.0| 1.0| 1.0| 1.0| 1.0| 0.0| 0.0| 0.0| 1.0| 1.0| 0.0| 0.0| 1.0| 1.0| 1.0| 0.0| 0.0| 0.0| 0.0| 0.0| 0.0|1.0|48.0|28.0|0.0|10.0| 4.0| 1.0|38.0|24.0| 0.0| 0.0| 0.0| 1.0| 1.0| 1.0| 1.0| 1.0| 1.0| 1.0| 1.0| 1.0| 1.0| 1.0| 1.0| 1.0| 1.0| 1.0| 1.0| 1.0| 1.0| 1.0|50.0|1758.0|925.0| 0.0|354.0|135.0|50.0|1404.0|790.0| 0.0| 0.0| 0.0|null|null|null|null|null|null|null| null|null|null|null|null|  null|null|null|null|null|null|null|null|null|           null|         null|null|null|null| null|  null|  null|null|null|null|null|null|null|null|null|null|null|null|null|null|null|null|null|null|null|null|null|null|null|null|null|null|null|null|null|null|null|null|null|null|null|null|null|null|null|null|null|null|null|null|null|null|null|null|null|null|null|null|null|null|null|null|null|null|null|null|null|null|null|null|null|null|null|null|null|null|null|null|null|null|null|null|null|null|null|null|null|null|null|null|null|null|null|null|null|null|null|null|null|null|null|null|null|null|null|null|null|null|null|null|null|null|null|null|null|null|null|null|null| 1.0|28.0| 0.0| 0.0| 0.0| 0.0|10.0| 0.0| 4.0| 0.0| 0.0| 1.0| 1.0| 1.0| 1.0|38.0|24.0| 0.0| 0.0| 0.0| 0.0| 0.0| 0.0| 0.0| 0.0| 0.0| 1.0|50.0|1758.0|925.0| 0.0|354.0| 0.0|135.0| 0.0| 0.0| 0.0|50.0|1404.0|790.0| 0.0| 0.0| 0.0|null|null|null|null|null|null|null|null|null|null|null|null|null|null|null|null|null|null| null|   null| null| null| null| null| null| null| null| null| null|\n",
            "|        86506|          50.0| null| null|1.0|1.0|0.0|0.0|0.0|1.0|0.0|1.0|0.0|1.0|1.0|0.0| 1.0|1.0|  0.0| null|null|null|null|null|null|null|null|null| null|null|null|null| null|null|null|null|null|null|null|null|null|null|null|null|null|null|null|null|null|null|null|null|null|null|null|null|null|null|null|null|null|null|null|null|null|null|null|null|null|null|null|null|null|null|null|null|null|null|null|null|null|null|null|null|null|null|null|null|null|null|null|null|null|null|null|null|null|null|null|null|null|null|null|null|null|null|null|null|null|null|null|null|null|null|null|null|null|null|null|null|null|null|null|null|null|null|null|0.0| 0.0| 0.0|0.0| 0.0| 0.0| 0.0| 0.0| 0.0| 0.0| 0.0| 0.0| 1.0| 1.0| 1.0| 1.0| 1.0| 1.0| 1.0| 1.0| 1.0| 1.0| 1.0| 1.0| 1.0| 1.0| 1.0| 1.0| 1.0| 1.0| 1.0| 0.0|   0.0|  0.0| 0.0|  0.0|  0.0| 0.0|   0.0|  0.0| 0.0| 0.0| 0.0| 0.0| 0.0| 0.0| 0.0| 0.0| 6.0|18.0|140.0| 0.0| 0.0| 0.0| 0.0|1803.0|49.0|64.0| 0.0| 0.0| 0.0| 0.0| 0.0| 0.0|15557.990234375|169690.796875| 0.0| 0.0| 0.0|515.0|5155.0|2840.0| 0.0| 0.0| 0.0| 1.0| 1.0| 0.0| 0.0| 0.0| 0.0| 1.0| 0.0| 0.0| 0.0| 0.0| 0.0| 0.0| 0.0| 0.0| 0.0| 1.0| 1.0| 1.0| 1.0| 1.0| 1.0| 1.0| 1.0| 1.0| 1.0| 1.0| 1.0| 1.0| 1.0| 1.0| 1.0| 0.0| 0.0| 0.0| 0.0| 0.0| 0.0| 0.0| 0.0| 0.0| 0.0| 0.0| 0.0| 0.0| 0.0| 0.0| 0.0| 0.0| 0.0| 0.0| 1.0| 1.0| 0.0| 0.0| 0.0| 0.0| 0.0| 1.0| 1.0| 1.0| 0.0| 0.0| 0.0| 0.0| 0.0| 0.0| 0.0| 0.0| 0.0| 1.0| 1.0| 1.0| 1.0| 1.0| 1.0| 1.0| 1.0| 1.0| 1.0| 1.0| 1.0| 1.0| 1.0| 1.0| 1.0| 1.0| 1.0| 1.0| 1.0| 1.0| 1.0| 1.0| 0.0| 0.0| 0.0| 0.0| 0.0| 0.0| 0.0| 0.0| 0.0| 0.0| 0.0| 0.0| 0.0| 0.0| 0.0| 0.0| 0.0| 0.0| 0.0| 1.0| 1.0| 0.0| 0.0| 0.0| 0.0| 0.0| 0.0| 1.0| 1.0| 1.0| 0.0| 0.0| 0.0| 0.0| 0.0| 0.0| 0.0| 0.0| 0.0| 1.0| 1.0| 1.0| 1.0| 0.0|   0.0|  0.0| 0.0|  0.0| 0.0|  0.0| 0.0| 0.0| 0.0| 0.0|   0.0|  0.0| 0.0| 0.0| 0.0| 0.0| 0.0| 0.0| 0.0| 0.0| 0.0| 0.0| 0.0| 0.0| 0.0| 0.0| 0.0| 0.0| 0.0| 0.0| 0.0| 0.0| 0.0|  0.0|70787.0| null| null| null| null| null| null| null| null|100.0|\n",
            "+-------------+--------------+-----+-----+---+---+---+---+---+---+---+---+---+---+---+---+----+---+-----+-----+----+----+----+----+----+----+----+----+-----+----+----+----+-----+----+----+----+----+----+----+----+----+----+----+----+----+----+----+----+----+----+----+----+----+----+----+----+----+----+----+----+----+----+----+----+----+----+----+----+----+----+----+----+----+----+----+----+----+----+----+----+----+----+----+----+----+----+----+----+----+----+----+----+----+----+----+----+----+----+----+----+----+----+----+----+----+----+----+----+----+----+----+----+----+----+----+----+----+----+----+----+----+----+----+----+----+----+----+---+----+----+---+----+----+----+----+----+----+----+----+----+----+----+----+----+----+----+----+----+----+----+----+----+----+----+----+----+----+----+----+------+-----+----+-----+-----+----+------+-----+----+----+----+----+----+----+----+----+----+----+-----+----+----+----+----+------+----+----+----+----+----+----+----+----+---------------+-------------+----+----+----+-----+------+------+----+----+----+----+----+----+----+----+----+----+----+----+----+----+----+----+----+----+----+----+----+----+----+----+----+----+----+----+----+----+----+----+----+----+----+----+----+----+----+----+----+----+----+----+----+----+----+----+----+----+----+----+----+----+----+----+----+----+----+----+----+----+----+----+----+----+----+----+----+----+----+----+----+----+----+----+----+----+----+----+----+----+----+----+----+----+----+----+----+----+----+----+----+----+----+----+----+----+----+----+----+----+----+----+----+----+----+----+----+----+----+----+----+----+----+----+----+----+----+----+----+----+----+----+----+----+----+----+----+----+----+----+----+----+----+----+----+----+----+----+------+-----+----+-----+----+-----+----+----+----+----+------+-----+----+----+----+----+----+----+----+----+----+----+----+----+----+----+----+----+----+----+----+----+----+-----+-------+-----+-----+-----+-----+-----+-----+-----+-----+-----+\n",
            "only showing top 5 rows\n",
            "\n"
          ],
          "name": "stdout"
        }
      ]
    },
    {
      "cell_type": "code",
      "metadata": {
        "id": "qtW5p-A2p5K_",
        "colab_type": "code",
        "colab": {}
      },
      "source": [
        "# This function use to print feature with null values and null count \n",
        "def null_value_count(df):\n",
        "    null_columns_counts = []\n",
        "    numRows = df.count()\n",
        "    for k in df.columns:\n",
        "        nullRows = df.where(col(k).isNull()).count()\n",
        "        if nullRows > 0:\n",
        "            temp = k, nullRows\n",
        "            null_columns_counts.append(temp)\n",
        "    return null_columns_counts"
      ],
      "execution_count": 0,
      "outputs": []
    },
    {
      "cell_type": "code",
      "metadata": {
        "id": "6sJEr7upp5LA",
        "colab_type": "code",
        "colab": {}
      },
      "source": [
        "# null_columns_count_list = null_value_count(train)\n",
        "# print(\"null_columns_count_list:\", null_columns_count_list)\n",
        "\n",
        "null_columns_count_list = [('card2', 8933), ('card3', 1565), ('card4', 1577), ('card5', 4259), ('card6', 1571), ('addr1', 65706), ('addr2', 65706), ('dist1', 352271), ('dist2', 552913), ('P_emaildomain', 94456), ('R_emaildomain', 453249), ('D1', 1269), ('D2', 280797), ('D3', 262878), ('D4', 168922), ('D5', 309841), ('D6', 517353), ('D7', 551623), ('D8', 515614), ('D9', 515614), ('D10', 76022), ('D11', 279287), ('D12', 525823), ('D13', 528588), ('D14', 528353), ('D15', 89113), ('M1', 271100), ('M2', 271100), ('M3', 271100), ('M4', 281444), ('M5', 350482), ('M6', 169360), ('M7', 346265), ('M8', 346252), ('M9', 346252), ('V1', 279287), ('V2', 279287), ('V3', 279287), ('V4', 279287), ('V5', 279287), ('V6', 279287), ('V7', 279287), ('V8', 279287), ('V9', 279287), ('V10', 279287), ('V11', 279287), ('V12', 76073), ('V13', 76073), ('V14', 76073), ('V15', 76073), ('V16', 76073), ('V17', 76073), ('V18', 76073), ('V19', 76073), ('V20', 76073), ('V21', 76073), ('V22', 76073), ('V23', 76073), ('V24', 76073), ('V25', 76073), ('V26', 76073), ('V27', 76073), ('V28', 76073), ('V29', 76073), ('V30', 76073), ('V31', 76073), ('V32', 76073), ('V33', 76073), ('V34', 76073), ('V35', 168969), ('V36', 168969), ('V37', 168969), ('V38', 168969), ('V39', 168969), ('V40', 168969), ('V41', 168969), ('V42', 168969), ('V43', 168969), ('V44', 168969), ('V45', 168969), ('V46', 168969), ('V47', 168969), ('V48', 168969), ('V49', 168969), ('V50', 168969), ('V51', 168969), ('V52', 168969), ('V53', 77096), ('V54', 77096), ('V55', 77096), ('V56', 77096), ('V57', 77096), ('V58', 77096), ('V59', 77096), ('V60', 77096), ('V61', 77096), ('V62', 77096), ('V63', 77096), ('V64', 77096), ('V65', 77096), ('V66', 77096), ('V67', 77096), ('V68', 77096), ('V69', 77096), ('V70', 77096), ('V71', 77096), ('V72', 77096), ('V73', 77096), ('V74', 77096), ('V75', 89164), ('V76', 89164), ('V77', 89164), ('V78', 89164), ('V79', 89164), ('V80', 89164), ('V81', 89164), ('V82', 89164), ('V83', 89164), ('V84', 89164), ('V85', 89164), ('V86', 89164), ('V87', 89164), ('V88', 89164), ('V89', 89164), ('V90', 89164), ('V91', 89164), ('V92', 89164), ('V93', 89164), ('V94', 89164), ('V95', 314), ('V96', 314), ('V97', 314), ('V98', 314), ('V99', 314), ('V100', 314), ('V101', 314), ('V102', 314), ('V103', 314), ('V104', 314), ('V105', 314), ('V106', 314), ('V107', 314), ('V108', 314), ('V109', 314), ('V110', 314), ('V111', 314), ('V112', 314), ('V113', 314), ('V114', 314), ('V115', 314), ('V116', 314), ('V117', 314), ('V118', 314), ('V119', 314), ('V120', 314), ('V121', 314), ('V122', 314), ('V123', 314), ('V124', 314), ('V125', 314), ('V126', 314), ('V127', 314), ('V128', 314), ('V129', 314), ('V130', 314), ('V131', 314), ('V132', 314), ('V133', 314), ('V134', 314), ('V135', 314), ('V136', 314), ('V137', 314), ('V138', 508595), ('V139', 508595), ('V140', 508595), ('V141', 508595), ('V142', 508595), ('V143', 508589), ('V144', 508589), ('V145', 508589), ('V146', 508595), ('V147', 508595), ('V148', 508595), ('V149', 508595), ('V150', 508589), ('V151', 508589), ('V152', 508589), ('V153', 508595), ('V154', 508595), ('V155', 508595), ('V156', 508595), ('V157', 508595), ('V158', 508595), ('V159', 508589), ('V160', 508589), ('V161', 508595), ('V162', 508595), ('V163', 508595), ('V164', 508589), ('V165', 508589), ('V166', 508589), ('V167', 450909), ('V168', 450909), ('V169', 450721), ('V170', 450721), ('V171', 450721), ('V172', 450909), ('V173', 450909), ('V174', 450721), ('V175', 450721), ('V176', 450909), ('V177', 450909), ('V178', 450909), ('V179', 450909), ('V180', 450721), ('V181', 450909), ('V182', 450909), ('V183', 450909), ('V184', 450721), ('V185', 450721), ('V186', 450909), ('V187', 450909), ('V188', 450721), ('V189', 450721), ('V190', 450909), ('V191', 450909), ('V192', 450909), ('V193', 450909), ('V194', 450721), ('V195', 450721), ('V196', 450909), ('V197', 450721), ('V198', 450721), ('V199', 450909), ('V200', 450721), ('V201', 450721), ('V202', 450909), ('V203', 450909), ('V204', 450909), ('V205', 450909), ('V206', 450909), ('V207', 450909), ('V208', 450721), ('V209', 450721), ('V210', 450721), ('V211', 450909), ('V212', 450909), ('V213', 450909), ('V214', 450909), ('V215', 450909), ('V216', 450909), ('V217', 460110), ('V218', 460110), ('V219', 460110), ('V220', 449124), ('V221', 449124), ('V222', 449124), ('V223', 460110), ('V224', 460110), ('V225', 460110), ('V226', 460110), ('V227', 449124), ('V228', 460110), ('V229', 460110), ('V230', 460110), ('V231', 460110), ('V232', 460110), ('V233', 460110), ('V234', 449124), ('V235', 460110), ('V236', 460110), ('V237', 460110), ('V238', 449124), ('V239', 449124), ('V240', 460110), ('V241', 460110), ('V242', 460110), ('V243', 460110), ('V244', 460110), ('V245', 449124), ('V246', 460110), ('V247', 460110), ('V248', 460110), ('V249', 460110), ('V250', 449124), ('V251', 449124), ('V252', 460110), ('V253', 460110), ('V254', 460110), ('V255', 449124), ('V256', 449124), ('V257', 460110), ('V258', 460110), ('V259', 449124), ('V260', 460110), ('V261', 460110), ('V262', 460110), ('V263', 460110), ('V264', 460110), ('V265', 460110), ('V266', 460110), ('V267', 460110), ('V268', 460110), ('V269', 460110), ('V270', 449124), ('V271', 449124), ('V272', 449124), ('V273', 460110), ('V274', 460110), ('V275', 460110), ('V276', 460110), ('V277', 460110), ('V278', 460110), ('V279', 12), ('V280', 12), ('V281', 1269), ('V282', 1269), ('V283', 1269), ('V284', 12), ('V285', 12), ('V286', 12), ('V287', 12), ('V288', 1269), ('V289', 1269), ('V290', 12), ('V291', 12), ('V292', 12), ('V293', 12), ('V294', 12), ('V295', 12), ('V296', 1269), ('V297', 12), ('V298', 12), ('V299', 12), ('V300', 1269), ('V301', 1269), ('V302', 12), ('V303', 12), ('V304', 12), ('V305', 12), ('V306', 12), ('V307', 12), ('V308', 12), ('V309', 12), ('V310', 12), ('V311', 12), ('V312', 12), ('V313', 1269), ('V314', 1269), ('V315', 1269), ('V316', 12), ('V317', 12), ('V318', 12), ('V319', 12), ('V320', 12), ('V321', 12), ('V322', 508189), ('V323', 508189), ('V324', 508189), ('V325', 508189), ('V326', 508189), ('V327', 508189), ('V328', 508189), ('V329', 508189), ('V330', 508189), ('V331', 508189), ('V332', 508189), ('V333', 508189), ('V334', 508189), ('V335', 508189), ('V336', 508189), ('V337', 508189), ('V338', 508189), ('V339', 508189), ('id_01', 446307), ('id_02', 449668), ('id_03', 524216), ('id_04', 524216), ('id_05', 453675), ('id_06', 453675), ('id_07', 585385), ('id_08', 585385), ('id_09', 515614), ('id_10', 515614), ('id_11', 449562), ('id_12', 446307), ('id_13', 463220), ('id_14', 510496), ('id_15', 449555), ('id_16', 461200), ('id_17', 451171), ('id_18', 545427), ('id_19', 451222), ('id_20', 451279), ('id_21', 585381), ('id_22', 585371), ('id_23', 585371), ('id_24', 585793), ('id_25', 585408), ('id_26', 585377), ('id_27', 585371), ('id_28', 449562), ('id_29', 449562), ('id_30', 512975), ('id_31', 450258), ('id_32', 512954), ('id_33', 517251), ('id_34', 512735), ('id_35', 449555), ('id_36', 449555), ('id_37', 449555), ('id_38', 449555), ('DeviceType', 449730), ('DeviceInfo', 471874)]"
      ],
      "execution_count": 0,
      "outputs": []
    },
    {
      "cell_type": "code",
      "metadata": {
        "scrolled": true,
        "id": "lS8Jp6iNp5LC",
        "colab_type": "code",
        "colab": {}
      },
      "source": [
        "for column, null_count in null_columns_count_list:\n",
        "    if null_count > 0.8 * total_count:\n",
        "        if column in categorical_cols:\n",
        "            categorical_cols.remove(column)\n",
        "        if column in contiguous_cols:\n",
        "            contiguous_cols.remove(column) "
      ],
      "execution_count": 0,
      "outputs": []
    },
    {
      "cell_type": "code",
      "metadata": {
        "id": "cqrYpELvp5LE",
        "colab_type": "code",
        "outputId": "8a3600a2-9bd1-41bc-8136-9d6f94f7ade2",
        "colab": {
          "base_uri": "https://localhost:8080/",
          "height": 54
        }
      },
      "source": [
        "\"\"\"\n",
        "Fill NA\n",
        "titanic_df = titanic_df.withColumn(\"Age\", when((titanic_df[\"Initial\"] == \"Miss\") & (titanic_df[\"Age\"].isNull()), 22).otherwise(titanic_df[\"Age\"]))\n",
        "titanic_df = titanic_df.withColumn(\"Age\", when((titanic_df[\"Initial\"] == \"Other\") & (titanic_df[\"Age\"].isNull()), 46).otherwise(titanic_df[\"Age\"]))\n",
        "titanic_df = titanic_df.withColumn(\"Age\", when((titanic_df[\"Initial\"] == \"Master\") & (titanic_df[\"Age\"].isNull()), 5).otherwise(titanic_df[\"Age\"]))\n",
        "titanic_df = titanic_df.withColumn(\"Age\", when((titanic_df[\"Initial\"] == \"Mr\") & (titanic_df[\"Age\"].isNull()), 33).otherwise(titanic_df[\"Age\"]))\n",
        "titanic_df = titanic_df.withColumn(\"Age\", when((titanic_df[\"Initial\"] == \"Mrs\") & (titanic_df[\"Age\"].isNull()), 36).otherwise(titanic_df[\"Age\"]))\n",
        "\n",
        "titanic_df = titanic_df.na.fill({\"Embarked\" : 'S'})\n",
        "\"\"\"\n",
        "\n",
        "# categorical_null_columns = [x[0] for x in categorical_null_columns_count_list]"
      ],
      "execution_count": 0,
      "outputs": [
        {
          "output_type": "execute_result",
          "data": {
            "text/plain": [
              "'\\nFill NA\\ntitanic_df = titanic_df.withColumn(\"Age\", when((titanic_df[\"Initial\"] == \"Miss\") & (titanic_df[\"Age\"].isNull()), 22).otherwise(titanic_df[\"Age\"]))\\ntitanic_df = titanic_df.withColumn(\"Age\", when((titanic_df[\"Initial\"] == \"Other\") & (titanic_df[\"Age\"].isNull()), 46).otherwise(titanic_df[\"Age\"]))\\ntitanic_df = titanic_df.withColumn(\"Age\", when((titanic_df[\"Initial\"] == \"Master\") & (titanic_df[\"Age\"].isNull()), 5).otherwise(titanic_df[\"Age\"]))\\ntitanic_df = titanic_df.withColumn(\"Age\", when((titanic_df[\"Initial\"] == \"Mr\") & (titanic_df[\"Age\"].isNull()), 33).otherwise(titanic_df[\"Age\"]))\\ntitanic_df = titanic_df.withColumn(\"Age\", when((titanic_df[\"Initial\"] == \"Mrs\") & (titanic_df[\"Age\"].isNull()), 36).otherwise(titanic_df[\"Age\"]))\\n\\ntitanic_df = titanic_df.na.fill({\"Embarked\" : \\'S\\'})\\n'"
            ]
          },
          "metadata": {
            "tags": []
          },
          "execution_count": 34
        }
      ]
    },
    {
      "cell_type": "code",
      "metadata": {
        "id": "sMeQo2W9p5LG",
        "colab_type": "code",
        "colab": {}
      },
      "source": [
        "from pyspark.sql.functions import mean as _mean, stddev as _stddev\n",
        "\n",
        "def fill_na(df, categorical_feats, contiguous_feats):\n",
        "    for f in df.columns:\n",
        "        if f in categorical_feats:\n",
        "            df = df.na.fill({f: -999})\n",
        "        elif f in contiguous_feats:\n",
        "            df_stats = df.select(\n",
        "            _mean(col(f)).alias('mean'),\n",
        "            _stddev(col(f)).alias('std')\n",
        "            ).collect()\n",
        "\n",
        "            mean = df_stats[0]['mean']\n",
        "            std = df_stats[0]['std']\n",
        "\n",
        "            df = df.na.fill({f: mean})\n",
        "        elif f != label_col:\n",
        "            df = df.drop(f)\n",
        "            \n",
        "    return df"
      ],
      "execution_count": 0,
      "outputs": []
    },
    {
      "cell_type": "code",
      "metadata": {
        "id": "DXFahrbGp5LJ",
        "colab_type": "code",
        "colab": {}
      },
      "source": [
        "train = fill_na(train, categorical_cols, contiguous_cols)"
      ],
      "execution_count": 0,
      "outputs": []
    },
    {
      "cell_type": "code",
      "metadata": {
        "id": "TwojQayup5LL",
        "colab_type": "code",
        "colab": {}
      },
      "source": [
        "train.select(\"TransactionDT\", \"TransactionAmt\", \"ProductCD\", \"DeviceType\", \"DeviceInfo\", \"Emaildomain_match\").show()"
      ],
      "execution_count": 0,
      "outputs": []
    },
    {
      "cell_type": "code",
      "metadata": {
        "id": "FNivYq1-p5LN",
        "colab_type": "code",
        "colab": {}
      },
      "source": [
        "train.select(\"card1\", \"card2\", \"card3\", \"card4\", \"card5\", \"card6\", \"addr1\", \"addr2\", \"dist1\").show()"
      ],
      "execution_count": 0,
      "outputs": []
    },
    {
      "cell_type": "code",
      "metadata": {
        "id": "BrrA3sEZp5LR",
        "colab_type": "code",
        "colab": {}
      },
      "source": [
        "test = test.withColumn(\"Emaildomain_match\", when(test[\"P_emaildomain\"].isNull() | test[\"R_emaildomain\"].isNull(), 2). \n",
        "                         when(test[\"P_emaildomain\"] == test[\"R_emaildomain\"], 1).otherwise(0))"
      ],
      "execution_count": 0,
      "outputs": []
    },
    {
      "cell_type": "code",
      "metadata": {
        "id": "x1K729WHp5LS",
        "colab_type": "code",
        "colab": {}
      },
      "source": [
        "test = fill_na(test, categorical_cols, contiguous_cols)"
      ],
      "execution_count": 0,
      "outputs": []
    },
    {
      "cell_type": "code",
      "metadata": {
        "id": "j-GSnr_ap5LV",
        "colab_type": "code",
        "colab": {}
      },
      "source": [
        "# categorical_cols"
      ],
      "execution_count": 0,
      "outputs": []
    },
    {
      "cell_type": "code",
      "metadata": {
        "id": "6gcnh222p5LY",
        "colab_type": "code",
        "colab": {}
      },
      "source": [
        "M_feats = [\"M{:d}\".format(i) for i in range(1, 10)]\n",
        "train.select(*M_feats).show()"
      ],
      "execution_count": 0,
      "outputs": []
    },
    {
      "cell_type": "code",
      "metadata": {
        "id": "YRU-g9HHp5Lc",
        "colab_type": "code",
        "colab": {}
      },
      "source": [
        "id_feats = [\n",
        "'id_12',\n",
        "'id_13',\n",
        "'id_15',\n",
        "'id_16',\n",
        "'id_17',\n",
        "'id_19',\n",
        "'id_20',\n",
        "'id_28',\n",
        "'id_29',\n",
        "'id_31',\n",
        "'id_35',\n",
        "'id_36',\n",
        "'id_37',\n",
        "'id_38'\n",
        "]\n",
        "train.select(*id_feats).show()"
      ],
      "execution_count": 0,
      "outputs": []
    },
    {
      "cell_type": "code",
      "metadata": {
        "id": "Nw3MhKFCp5Lf",
        "colab_type": "code",
        "colab": {}
      },
      "source": [
        "from pyspark.ml import Pipeline\n",
        "\n",
        "feat_stages = {}\n",
        "for f in categorical_cols:\n",
        "    indexer = StringIndexer(inputCol=f, outputCol=f + \"_numeric\").fit(train)\n",
        "    feat_stages.append(indexer)\n",
        "\n",
        "pipeline = Pipeline(stages=feat_stages) \n",
        "pipeline_fitted = pipeline.fit(train)\n",
        "\n",
        "indexed_train = pipeline_fitted.transform(indexed_train)\n",
        "indexed_test = pipeline_fitted.transform(indexed_test)\n",
        "\n",
        "indexed_categorical_cols = [x + \"_numeric\" for x in categorical_cols]"
      ],
      "execution_count": 0,
      "outputs": []
    },
    {
      "cell_type": "code",
      "metadata": {
        "id": "f0QwcBK0p5Lg",
        "colab_type": "code",
        "colab": {}
      },
      "source": [
        "indexed_train.printSchema()"
      ],
      "execution_count": 0,
      "outputs": []
    },
    {
      "cell_type": "code",
      "metadata": {
        "id": "X_ipozh-p5Lh",
        "colab_type": "code",
        "colab": {}
      },
      "source": [
        "indexed_train.select(\"DeviceType_numeric\").show()"
      ],
      "execution_count": 0,
      "outputs": []
    },
    {
      "cell_type": "code",
      "metadata": {
        "id": "8TRouaj_p5Lj",
        "colab_type": "code",
        "colab": {}
      },
      "source": [
        ""
      ],
      "execution_count": 0,
      "outputs": []
    },
    {
      "cell_type": "code",
      "metadata": {
        "id": "BNEzBAfIp5Lk",
        "colab_type": "code",
        "colab": {}
      },
      "source": [
        "feature = VectorAssembler(inputCols=indexed_categorical_cols + contiguous_cols, outputCol=\"features\")\n",
        "train_data = feature.transform(indexed_train)\n",
        "test_data = feature.transform(indexed_test)"
      ],
      "execution_count": 0,
      "outputs": []
    },
    {
      "cell_type": "markdown",
      "metadata": {
        "id": "qAmN4QuZp5Lm",
        "colab_type": "text"
      },
      "source": [
        "### Fit the ML model"
      ]
    },
    {
      "cell_type": "code",
      "metadata": {
        "id": "mT9KJqkwp5Lm",
        "colab_type": "code",
        "colab": {}
      },
      "source": [
        "from pyspark.ml.classification import LogisticRegression\n",
        "\n",
        "lr = LogisticRegression(labelCol=\"isFraud\", featuresCol=\"features\")\n",
        "# Training algo\n",
        "lrModel = lr.fit(train_data)\n",
        "\n",
        "lr_prediction = lrModel.transform(test_data)\n",
        "lr_prediction.select(\"prediction\", \"isFraud\", \"features\").show()\n",
        "evaluator = MulticlassClassificationEvaluator(labelCol=\"isFraud\", predictionCol=\"prediction\", metricName=\"accuracy\")"
      ],
      "execution_count": 0,
      "outputs": []
    },
    {
      "cell_type": "code",
      "metadata": {
        "id": "3lWXHgJxp5Lr",
        "colab_type": "code",
        "colab": {}
      },
      "source": [
        "lr_accuracy = evaluator.evaluate(lr_prediction)\n",
        "print(\"Test Accuracy of LogisticRegression is = %g\"% (lr_accuracy))"
      ],
      "execution_count": 0,
      "outputs": []
    },
    {
      "cell_type": "code",
      "metadata": {
        "id": "hkw7sf3qp5Lt",
        "colab_type": "code",
        "colab": {}
      },
      "source": [
        ""
      ],
      "execution_count": 0,
      "outputs": []
    },
    {
      "cell_type": "code",
      "metadata": {
        "id": "kNvONvnRp5Lu",
        "colab_type": "code",
        "colab": {}
      },
      "source": [
        ""
      ],
      "execution_count": 0,
      "outputs": []
    }
  ]
}